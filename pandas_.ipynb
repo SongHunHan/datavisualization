{
 "cells": [
  {
   "cell_type": "markdown",
   "id": "f86177d2",
   "metadata": {},
   "source": [
    "# 데이터 분석 & 데이터 시각화"
   ]
  },
  {
   "cell_type": "markdown",
   "id": "acdc8318",
   "metadata": {},
   "source": [
    "## 1. 데이터 분석\n",
    "데이터 분석이란 데이터를 수집하고 조사하여 데이터 안에 있는 연관성을 발견해 유용한 정보를 발굴하는 과정을 데이터 분석이라고 합니다."
   ]
  },
  {
   "cell_type": "markdown",
   "id": "817f633f",
   "metadata": {},
   "source": [
    "### Image Data\n",
    "<center>\n",
    "<img src=\"https://drive.google.com/uc?id=1IrosSD_FXtmuQcSvV-YUZLYTEJjB2m2U\" height=400 width=600 style>\n",
    "</center>"
   ]
  },
  {
   "cell_type": "markdown",
   "id": "e982c383",
   "metadata": {},
   "source": [
    "### Langauage Data\n",
    "<center>\n",
    "<img src=\"https://drive.google.com/uc?id=18Q9bFuCjKKKOh1tk1s6k-syH_EzXj1VW\" height=400 width=800 >\n",
    "</center>"
   ]
  },
  {
   "cell_type": "markdown",
   "id": "1e61b1c2",
   "metadata": {},
   "source": [
    "### Tabular Data\n",
    "<center>\n",
    "<img src=\"https://drive.google.com/uc?id=1zTh1ezLojjQmPtd7sKvGRxkGvTY9AdL9\" height=400 width=800 >\n",
    "</center>"
   ]
  },
  {
   "cell_type": "markdown",
   "id": "b3244a27",
   "metadata": {},
   "source": [
    "#### colab이란? (Jupyter notebook)\n",
    "웹 브라우저 상에서 Python코드를 실행시켜주는 (저희 노트북이 아니라 구글이 제공하는 서버를 사용)"
   ]
  },
  {
   "cell_type": "code",
   "execution_count": null,
   "id": "c47803bc",
   "metadata": {},
   "outputs": [],
   "source": [
    "print('Hello World!')"
   ]
  },
  {
   "cell_type": "markdown",
   "id": "29b88043",
   "metadata": {},
   "source": [
    "#### 실행 단축키 \n",
    "- Shift + Enter : 실행 후 다음 셀 선택\n",
    "- Ctrl + Enter : 실행 후 현재 셀 유지\n",
    "\n",
    "#### 단축키 모음\n",
    "- Ctrl + M H : 단축 키 확인"
   ]
  },
  {
   "cell_type": "markdown",
   "id": "208665f4",
   "metadata": {},
   "source": [
    "추가 설정\n",
    "- GPU check\n",
    "- 설정으로 customize : 테마, pont-size 등등"
   ]
  },
  {
   "cell_type": "code",
   "execution_count": null,
   "id": "9f00825d",
   "metadata": {},
   "outputs": [],
   "source": [
    "## 셀의 순서에 영향을 받지 않는다."
   ]
  },
  {
   "cell_type": "code",
   "execution_count": null,
   "id": "e8e06270",
   "metadata": {},
   "outputs": [],
   "source": [
    "number = 1\n",
    "print(number)"
   ]
  },
  {
   "cell_type": "code",
   "execution_count": null,
   "id": "baeba99d",
   "metadata": {},
   "outputs": [],
   "source": []
  },
  {
   "cell_type": "code",
   "execution_count": null,
   "id": "91635d3a",
   "metadata": {},
   "outputs": [],
   "source": [
    "## Google drive mount\n",
    "\n",
    "# from google.colab import drive\n",
    "# drive.mount('/content/drive')"
   ]
  },
  {
   "cell_type": "markdown",
   "id": "f0117897",
   "metadata": {},
   "source": [
    "## 판다스(Pandas)\n",
    "\n",
    "판다스(Pandas)는 파이썬 데이터 처리를 위한 라이브러리입니다.\n",
    "파이썬을 이용한 데이터 분석과 같은 작업에서 필수적인 라이브러리로 알려져 있죠.\n",
    "\n",
    "판다스는 정형 데이터를 효율적으로 표현할 수 있는 <b>DataFrame</b> 형태로 모든 데이터를 표현합니다.\n",
    "(DataFrame은 2차원 테이블 구조를 말합니다.) \n",
    "\n",
    "csv, excel file등을 파일을 읽고, data processing"
   ]
  },
  {
   "cell_type": "markdown",
   "id": "cfea347c",
   "metadata": {},
   "source": [
    "### Tabular Data\n",
    "<center>\n",
    "<img src=\"https://drive.google.com/uc?id=1cfd4LkoTWHXOgF-QIpzVtGQXwZz1UNyR\" height=400 width=800 >\n",
    "</center>"
   ]
  },
  {
   "cell_type": "code",
   "execution_count": null,
   "id": "ce597c9d",
   "metadata": {},
   "outputs": [],
   "source": [
    "# 주석을 작성할 경우 # 기호를 사용합니다. 셀안에서 # 이후의 내용은 주석으로 인식되어 코드에 영향을 미치지 않습니다.\n",
    "\n",
    "# 이것은 주석입니다.\n",
    "print('데이터베이스 수업') 수업을 위한 예시\n",
    "print('데이터베이스 수업') # 수업을 위한 예시"
   ]
  },
  {
   "cell_type": "code",
   "execution_count": null,
   "id": "b33cd659",
   "metadata": {},
   "outputs": [],
   "source": [
    "# 데이터 프레임 생성을 위한 pandas 라이브러리\n",
    "## 라이브러리란 다른 프로그램의 구성 요소를 사용하기 위해 미리 만들어 둔 프로그램 조각 \n",
    "\n",
    "import pandas\n",
    "import pandas as pd  #as 명령어로 pd 라는 별칭 지정하기\n",
    "import numpy as np"
   ]
  },
  {
   "cell_type": "code",
   "execution_count": null,
   "id": "6aee5d8f",
   "metadata": {},
   "outputs": [],
   "source": [
    "## csv 데이터 읽기\n",
    "# df = pd.read_csv('폴더 경로')\n",
    "\n",
    "## 예시 데이터 만들기\n",
    "random_df = pd.DataFrame(np.random.randn(5, 3))\n",
    "student_card = pd.DataFrame({'ID':[20190103, 20190222, 20190531],\n",
    "                             'name':['Kim', 'Lee', 'Jeong'],\n",
    "                             'class':['H', 'W', 'S'],\n",
    "                            'score':[50,20,100]})"
   ]
  },
  {
   "cell_type": "code",
   "execution_count": null,
   "id": "56cd31b6",
   "metadata": {},
   "outputs": [],
   "source": [
    "student_card"
   ]
  },
  {
   "cell_type": "markdown",
   "id": "0904361c",
   "metadata": {},
   "source": [
    "#### Pandas 유용한 method \n",
    "\n",
    "- df.head, df.tail\n",
    "- df.info\n",
    "- df.columns\n",
    "- df.describe"
   ]
  },
  {
   "cell_type": "code",
   "execution_count": null,
   "id": "af85d972",
   "metadata": {},
   "outputs": [],
   "source": [
    "student_card.head()"
   ]
  },
  {
   "cell_type": "code",
   "execution_count": null,
   "id": "418468ab",
   "metadata": {},
   "outputs": [],
   "source": [
    "student_card.columns"
   ]
  },
  {
   "cell_type": "code",
   "execution_count": null,
   "id": "697069e5",
   "metadata": {},
   "outputs": [],
   "source": [
    "student_card.info()"
   ]
  },
  {
   "cell_type": "code",
   "execution_count": null,
   "id": "cc3fb3ca",
   "metadata": {},
   "outputs": [],
   "source": [
    "student_card.describe() #.T"
   ]
  },
  {
   "cell_type": "code",
   "execution_count": null,
   "id": "7fe21869",
   "metadata": {},
   "outputs": [],
   "source": [
    "## index value 기준으로\n",
    "student_card.loc[0] # student_card.loc[1]"
   ]
  },
  {
   "cell_type": "code",
   "execution_count": null,
   "id": "8baf87cc",
   "metadata": {},
   "outputs": [],
   "source": [
    "student_card.loc[0, 'name'] # student_card.loc[0][1]\n",
    "# student_card.loc[:, 'name'] # student_card.loc[0][1]"
   ]
  },
  {
   "cell_type": "code",
   "execution_count": null,
   "id": "36e395fd",
   "metadata": {},
   "outputs": [],
   "source": [
    "## index Slice\n",
    "student_card[1:2]"
   ]
  },
  {
   "cell_type": "code",
   "execution_count": null,
   "id": "5589d388",
   "metadata": {},
   "outputs": [],
   "source": [
    "## 특정 열 선택\n",
    "student_card['class']"
   ]
  },
  {
   "cell_type": "code",
   "execution_count": null,
   "id": "2292bb54",
   "metadata": {},
   "outputs": [],
   "source": [
    "## 여러개 열 선택\n",
    "student_card[['class', 'name']]"
   ]
  },
  {
   "cell_type": "code",
   "execution_count": null,
   "id": "abadf78f",
   "metadata": {},
   "outputs": [],
   "source": [
    "## 조건으로 검색\n",
    "student_card['score'] >= 50"
   ]
  },
  {
   "cell_type": "code",
   "execution_count": null,
   "id": "b4b3df8b",
   "metadata": {},
   "outputs": [],
   "source": [
    "## 조건으로 검색 후 데이터 프레임 출력\n",
    "student_card[student_card['score'] >= 50]"
   ]
  },
  {
   "cell_type": "code",
   "execution_count": null,
   "id": "f924abde",
   "metadata": {},
   "outputs": [],
   "source": [
    "student_card[(student_card['score'] >= 50) & (student_card['name']=='Kim')]"
   ]
  },
  {
   "cell_type": "code",
   "execution_count": null,
   "id": "4ed15d8b",
   "metadata": {},
   "outputs": [],
   "source": [
    "## 정렬기능\n",
    "student_card.sort_values(by='score')"
   ]
  },
  {
   "cell_type": "code",
   "execution_count": null,
   "id": "829ca2b9",
   "metadata": {},
   "outputs": [],
   "source": [
    "## 개수 count\n",
    "student_card['score'].value_counts()"
   ]
  },
  {
   "cell_type": "code",
   "execution_count": null,
   "id": "1badace5",
   "metadata": {},
   "outputs": [],
   "source": [
    "## 데이터 변경\n",
    "student_card.loc[0, 'score'] = 90\n",
    "student_card"
   ]
  },
  {
   "cell_type": "code",
   "execution_count": null,
   "id": "1eb9e6dd",
   "metadata": {},
   "outputs": [],
   "source": [
    "## https://laboputer.github.io/machine-learning/2020/04/07/pandas-10minutes/"
   ]
  },
  {
   "cell_type": "code",
   "execution_count": null,
   "id": "08d369a3",
   "metadata": {},
   "outputs": [],
   "source": [
    "### git clone https://github.com/SongHunHan/datavisualization.git\n",
    "### pd.pivot_table(data, columns='gender')"
   ]
  }
 ],
 "metadata": {
  "kernelspec": {
   "display_name": "Python 3 (ipykernel)",
   "language": "python",
   "name": "python3"
  },
  "language_info": {
   "codemirror_mode": {
    "name": "ipython",
    "version": 3
   },
   "file_extension": ".py",
   "mimetype": "text/x-python",
   "name": "python",
   "nbconvert_exporter": "python",
   "pygments_lexer": "ipython3",
   "version": "3.8.10"
  }
 },
 "nbformat": 4,
 "nbformat_minor": 5
}
