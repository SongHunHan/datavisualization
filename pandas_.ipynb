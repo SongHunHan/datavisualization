{
 "cells": [
  {
   "cell_type": "markdown",
   "id": "742cf2aa",
   "metadata": {},
   "source": [
    "# 데이터 분석 & 데이터 시각화"
   ]
  },
  {
   "cell_type": "markdown",
   "id": "ecc2a109",
   "metadata": {},
   "source": [
    "## 1. 데이터 분석\n",
    "데이터 분석이란 데이터를 수집하고 조사하여 데이터 안에 있는 연관성을 발견해 유용한 정보를 발굴하는 과정을 데이터 분석이라고 합니다."
   ]
  },
  {
   "cell_type": "markdown",
   "id": "e690b1c5",
   "metadata": {},
   "source": [
    "### Image Data\n",
    "<center>\n",
    "<img src=\"https://drive.google.com/uc?id=1IrosSD_FXtmuQcSvV-YUZLYTEJjB2m2U\" height=400 width=600 style>\n",
    "</center>"
   ]
  },
  {
   "cell_type": "markdown",
   "id": "b23d5a14",
   "metadata": {},
   "source": [
    "### Langauage Data\n",
    "<center>\n",
    "<img src=\"https://drive.google.com/uc?id=18Q9bFuCjKKKOh1tk1s6k-syH_EzXj1VW\" height=400 width=800 >\n",
    "</center>"
   ]
  },
  {
   "cell_type": "markdown",
   "id": "e2b6aaef",
   "metadata": {},
   "source": [
    "### Tabular Data\n",
    "<center>\n",
    "<img src=\"https://drive.google.com/uc?id=1zTh1ezLojjQmPtd7sKvGRxkGvTY9AdL9\" height=400 width=800 >\n",
    "</center>"
   ]
  },
  {
   "cell_type": "markdown",
   "id": "7289835c",
   "metadata": {},
   "source": [
    "#### colab이란? (Jupyter notebook)\n",
    "웹 브라우저 상에서 Python코드를 실행시켜주는 (저희 노트북이 아니라 구글이 제공하는 서버를 사용)"
   ]
  },
  {
   "cell_type": "code",
   "execution_count": 10,
   "id": "ae5be028",
   "metadata": {},
   "outputs": [
    {
     "name": "stdout",
     "output_type": "stream",
     "text": [
      "Hello World!\n"
     ]
    }
   ],
   "source": [
    "print('Hello World!')"
   ]
  },
  {
   "cell_type": "markdown",
   "id": "6a87045f",
   "metadata": {},
   "source": [
    "#### 실행 단축키 \n",
    "- Shift + Enter : 실행 후 다음 셀 선택\n",
    "- Ctrl + Enter : 실행 후 현재 셀 유지\n",
    "\n",
    "#### 단축키 모음\n",
    "- Ctrl + M H : 단축 키 확인"
   ]
  },
  {
   "cell_type": "markdown",
   "id": "d86fb3a9",
   "metadata": {},
   "source": [
    "추가 설정\n",
    "- GPU check\n",
    "- 설정으로 customize : 테마, pont-size 등등"
   ]
  },
  {
   "cell_type": "code",
   "execution_count": 18,
   "id": "8671998d",
   "metadata": {},
   "outputs": [],
   "source": [
    "## 셀의 순서에 영향을 받지 않는다."
   ]
  },
  {
   "cell_type": "code",
   "execution_count": 19,
   "id": "e7a86417",
   "metadata": {},
   "outputs": [
    {
     "name": "stdout",
     "output_type": "stream",
     "text": [
      "1\n"
     ]
    }
   ],
   "source": [
    "number = 1\n",
    "print(number)"
   ]
  },
  {
   "cell_type": "code",
   "execution_count": null,
   "id": "cba56b3d",
   "metadata": {},
   "outputs": [],
   "source": []
  },
  {
   "cell_type": "code",
   "execution_count": 23,
   "id": "2e0829ce",
   "metadata": {},
   "outputs": [],
   "source": [
    "## Google drive mount\n",
    "\n",
    "# from google.colab import drive\n",
    "# drive.mount('/content/drive')"
   ]
  },
  {
   "cell_type": "markdown",
   "id": "8875f2b2",
   "metadata": {},
   "source": [
    "## 판다스(Pandas)\n",
    "\n",
    "판다스(Pandas)는 파이썬 데이터 처리를 위한 라이브러리입니다.\n",
    "파이썬을 이용한 데이터 분석과 같은 작업에서 필수적인 라이브러리로 알려져 있죠.\n",
    "\n",
    "판다스는 정형 데이터를 효율적으로 표현할 수 있는 <b>DataFrame</b> 형태로 모든 데이터를 표현합니다.\n",
    "(DataFrame은 2차원 테이블 구조를 말합니다.) \n",
    "\n",
    "csv, excel file등을 파일을 읽고, data processing"
   ]
  },
  {
   "cell_type": "markdown",
   "id": "351a7eb3",
   "metadata": {},
   "source": [
    "### Tabular Data\n",
    "<center>\n",
    "<img src=\"https://drive.google.com/uc?id=1cfd4LkoTWHXOgF-QIpzVtGQXwZz1UNyR\" height=400 width=800 >\n",
    "</center>"
   ]
  },
  {
   "cell_type": "code",
   "execution_count": 26,
   "id": "4b6c876a",
   "metadata": {},
   "outputs": [
    {
     "ename": "SyntaxError",
     "evalue": "invalid syntax (504554937.py, line 4)",
     "output_type": "error",
     "traceback": [
      "\u001b[0;36m  Cell \u001b[0;32mIn[26], line 4\u001b[0;36m\u001b[0m\n\u001b[0;31m    print('데이터베이스 수업') 수업을 위한 예시\u001b[0m\n\u001b[0m                       ^\u001b[0m\n\u001b[0;31mSyntaxError\u001b[0m\u001b[0;31m:\u001b[0m invalid syntax\n"
     ]
    }
   ],
   "source": [
    "# 주석을 작성할 경우 # 기호를 사용합니다. 셀안에서 # 이후의 내용은 주석으로 인식되어 코드에 영향을 미치지 않습니다.\n",
    "\n",
    "# 이것은 주석입니다.\n",
    "print('데이터베이스 수업') 수업을 위한 예시\n",
    "print('데이터베이스 수업') # 수업을 위한 예시"
   ]
  },
  {
   "cell_type": "code",
   "execution_count": 36,
   "id": "654a298f",
   "metadata": {},
   "outputs": [],
   "source": [
    "# 데이터 프레임 생성을 위한 pandas 라이브러리\n",
    "## 라이브러리란 다른 프로그램의 구성 요소를 사용하기 위해 미리 만들어 둔 프로그램 조각 \n",
    "\n",
    "import pandas\n",
    "import pandas as pd  #as 명령어로 pd 라는 별칭 지정하기\n",
    "import numpy as np"
   ]
  },
  {
   "cell_type": "code",
   "execution_count": 56,
   "id": "c8f19677",
   "metadata": {},
   "outputs": [],
   "source": [
    "## csv 데이터 읽기\n",
    "# df = pd.read_csv('폴더 경로')\n",
    "\n",
    "## 예시 데이터 만들기\n",
    "random_df = pd.DataFrame(np.random.randn(5, 3))\n",
    "student_card = pd.DataFrame({'ID':[20190103, 20190222, 20190531],\n",
    "                             'name':['Kim', 'Lee', 'Jeong'],\n",
    "                             'class':['H', 'W', 'S'],\n",
    "                            'score':[50,20,100]})"
   ]
  },
  {
   "cell_type": "code",
   "execution_count": 57,
   "id": "98ccf9b1",
   "metadata": {},
   "outputs": [
    {
     "data": {
      "text/html": [
       "<div>\n",
       "<style scoped>\n",
       "    .dataframe tbody tr th:only-of-type {\n",
       "        vertical-align: middle;\n",
       "    }\n",
       "\n",
       "    .dataframe tbody tr th {\n",
       "        vertical-align: top;\n",
       "    }\n",
       "\n",
       "    .dataframe thead th {\n",
       "        text-align: right;\n",
       "    }\n",
       "</style>\n",
       "<table border=\"1\" class=\"dataframe\">\n",
       "  <thead>\n",
       "    <tr style=\"text-align: right;\">\n",
       "      <th></th>\n",
       "      <th>ID</th>\n",
       "      <th>name</th>\n",
       "      <th>class</th>\n",
       "      <th>score</th>\n",
       "    </tr>\n",
       "  </thead>\n",
       "  <tbody>\n",
       "    <tr>\n",
       "      <th>0</th>\n",
       "      <td>20190103</td>\n",
       "      <td>Kim</td>\n",
       "      <td>H</td>\n",
       "      <td>50</td>\n",
       "    </tr>\n",
       "    <tr>\n",
       "      <th>1</th>\n",
       "      <td>20190222</td>\n",
       "      <td>Lee</td>\n",
       "      <td>W</td>\n",
       "      <td>20</td>\n",
       "    </tr>\n",
       "    <tr>\n",
       "      <th>2</th>\n",
       "      <td>20190531</td>\n",
       "      <td>Jeong</td>\n",
       "      <td>S</td>\n",
       "      <td>100</td>\n",
       "    </tr>\n",
       "  </tbody>\n",
       "</table>\n",
       "</div>"
      ],
      "text/plain": [
       "         ID   name class  score\n",
       "0  20190103    Kim     H     50\n",
       "1  20190222    Lee     W     20\n",
       "2  20190531  Jeong     S    100"
      ]
     },
     "execution_count": 57,
     "metadata": {},
     "output_type": "execute_result"
    }
   ],
   "source": [
    "student_card"
   ]
  },
  {
   "cell_type": "markdown",
   "id": "49200f13",
   "metadata": {},
   "source": [
    "#### Pandas 유용한 method \n",
    "\n",
    "- df.head, df.tail\n",
    "- df.info\n",
    "- df.columns\n",
    "- df.describe"
   ]
  },
  {
   "cell_type": "code",
   "execution_count": 58,
   "id": "cf545d5c",
   "metadata": {},
   "outputs": [
    {
     "data": {
      "text/html": [
       "<div>\n",
       "<style scoped>\n",
       "    .dataframe tbody tr th:only-of-type {\n",
       "        vertical-align: middle;\n",
       "    }\n",
       "\n",
       "    .dataframe tbody tr th {\n",
       "        vertical-align: top;\n",
       "    }\n",
       "\n",
       "    .dataframe thead th {\n",
       "        text-align: right;\n",
       "    }\n",
       "</style>\n",
       "<table border=\"1\" class=\"dataframe\">\n",
       "  <thead>\n",
       "    <tr style=\"text-align: right;\">\n",
       "      <th></th>\n",
       "      <th>ID</th>\n",
       "      <th>name</th>\n",
       "      <th>class</th>\n",
       "      <th>score</th>\n",
       "    </tr>\n",
       "  </thead>\n",
       "  <tbody>\n",
       "    <tr>\n",
       "      <th>0</th>\n",
       "      <td>20190103</td>\n",
       "      <td>Kim</td>\n",
       "      <td>H</td>\n",
       "      <td>50</td>\n",
       "    </tr>\n",
       "    <tr>\n",
       "      <th>1</th>\n",
       "      <td>20190222</td>\n",
       "      <td>Lee</td>\n",
       "      <td>W</td>\n",
       "      <td>20</td>\n",
       "    </tr>\n",
       "    <tr>\n",
       "      <th>2</th>\n",
       "      <td>20190531</td>\n",
       "      <td>Jeong</td>\n",
       "      <td>S</td>\n",
       "      <td>100</td>\n",
       "    </tr>\n",
       "  </tbody>\n",
       "</table>\n",
       "</div>"
      ],
      "text/plain": [
       "         ID   name class  score\n",
       "0  20190103    Kim     H     50\n",
       "1  20190222    Lee     W     20\n",
       "2  20190531  Jeong     S    100"
      ]
     },
     "execution_count": 58,
     "metadata": {},
     "output_type": "execute_result"
    }
   ],
   "source": [
    "student_card.head()"
   ]
  },
  {
   "cell_type": "code",
   "execution_count": 59,
   "id": "4eb5b84d",
   "metadata": {},
   "outputs": [
    {
     "data": {
      "text/plain": [
       "Index(['ID', 'name', 'class', 'score'], dtype='object')"
      ]
     },
     "execution_count": 59,
     "metadata": {},
     "output_type": "execute_result"
    }
   ],
   "source": [
    "student_card.columns"
   ]
  },
  {
   "cell_type": "code",
   "execution_count": 60,
   "id": "f2696d0d",
   "metadata": {},
   "outputs": [
    {
     "name": "stdout",
     "output_type": "stream",
     "text": [
      "<class 'pandas.core.frame.DataFrame'>\n",
      "RangeIndex: 3 entries, 0 to 2\n",
      "Data columns (total 4 columns):\n",
      " #   Column  Non-Null Count  Dtype \n",
      "---  ------  --------------  ----- \n",
      " 0   ID      3 non-null      int64 \n",
      " 1   name    3 non-null      object\n",
      " 2   class   3 non-null      object\n",
      " 3   score   3 non-null      int64 \n",
      "dtypes: int64(2), object(2)\n",
      "memory usage: 224.0+ bytes\n"
     ]
    }
   ],
   "source": [
    "student_card.info()"
   ]
  },
  {
   "cell_type": "code",
   "execution_count": 64,
   "id": "5cd22241",
   "metadata": {},
   "outputs": [
    {
     "data": {
      "text/html": [
       "<div>\n",
       "<style scoped>\n",
       "    .dataframe tbody tr th:only-of-type {\n",
       "        vertical-align: middle;\n",
       "    }\n",
       "\n",
       "    .dataframe tbody tr th {\n",
       "        vertical-align: top;\n",
       "    }\n",
       "\n",
       "    .dataframe thead th {\n",
       "        text-align: right;\n",
       "    }\n",
       "</style>\n",
       "<table border=\"1\" class=\"dataframe\">\n",
       "  <thead>\n",
       "    <tr style=\"text-align: right;\">\n",
       "      <th></th>\n",
       "      <th>ID</th>\n",
       "      <th>score</th>\n",
       "    </tr>\n",
       "  </thead>\n",
       "  <tbody>\n",
       "    <tr>\n",
       "      <th>count</th>\n",
       "      <td>3.000000e+00</td>\n",
       "      <td>3.000000</td>\n",
       "    </tr>\n",
       "    <tr>\n",
       "      <th>mean</th>\n",
       "      <td>2.019029e+07</td>\n",
       "      <td>56.666667</td>\n",
       "    </tr>\n",
       "    <tr>\n",
       "      <th>std</th>\n",
       "      <td>2.209170e+02</td>\n",
       "      <td>40.414519</td>\n",
       "    </tr>\n",
       "    <tr>\n",
       "      <th>min</th>\n",
       "      <td>2.019010e+07</td>\n",
       "      <td>20.000000</td>\n",
       "    </tr>\n",
       "    <tr>\n",
       "      <th>25%</th>\n",
       "      <td>2.019016e+07</td>\n",
       "      <td>35.000000</td>\n",
       "    </tr>\n",
       "    <tr>\n",
       "      <th>50%</th>\n",
       "      <td>2.019022e+07</td>\n",
       "      <td>50.000000</td>\n",
       "    </tr>\n",
       "    <tr>\n",
       "      <th>75%</th>\n",
       "      <td>2.019038e+07</td>\n",
       "      <td>75.000000</td>\n",
       "    </tr>\n",
       "    <tr>\n",
       "      <th>max</th>\n",
       "      <td>2.019053e+07</td>\n",
       "      <td>100.000000</td>\n",
       "    </tr>\n",
       "  </tbody>\n",
       "</table>\n",
       "</div>"
      ],
      "text/plain": [
       "                 ID       score\n",
       "count  3.000000e+00    3.000000\n",
       "mean   2.019029e+07   56.666667\n",
       "std    2.209170e+02   40.414519\n",
       "min    2.019010e+07   20.000000\n",
       "25%    2.019016e+07   35.000000\n",
       "50%    2.019022e+07   50.000000\n",
       "75%    2.019038e+07   75.000000\n",
       "max    2.019053e+07  100.000000"
      ]
     },
     "execution_count": 64,
     "metadata": {},
     "output_type": "execute_result"
    }
   ],
   "source": [
    "student_card.describe() #.T"
   ]
  },
  {
   "cell_type": "code",
   "execution_count": 75,
   "id": "3d1ca3e1",
   "metadata": {},
   "outputs": [
    {
     "data": {
      "text/plain": [
       "ID       20190103\n",
       "name          Kim\n",
       "class           H\n",
       "score          50\n",
       "Name: 0, dtype: object"
      ]
     },
     "execution_count": 75,
     "metadata": {},
     "output_type": "execute_result"
    }
   ],
   "source": [
    "## index value 기준으로\n",
    "student_card.loc[0] # student_card.loc[1]"
   ]
  },
  {
   "cell_type": "code",
   "execution_count": 112,
   "id": "e8e587f4",
   "metadata": {},
   "outputs": [
    {
     "data": {
      "text/plain": [
       "'Kim'"
      ]
     },
     "execution_count": 112,
     "metadata": {},
     "output_type": "execute_result"
    }
   ],
   "source": [
    "student_card.loc[0, 'name'] # student_card.loc[0][1]\n",
    "# student_card.loc[:, 'name'] # student_card.loc[0][1]"
   ]
  },
  {
   "cell_type": "code",
   "execution_count": 106,
   "id": "b49add87",
   "metadata": {},
   "outputs": [
    {
     "data": {
      "text/html": [
       "<div>\n",
       "<style scoped>\n",
       "    .dataframe tbody tr th:only-of-type {\n",
       "        vertical-align: middle;\n",
       "    }\n",
       "\n",
       "    .dataframe tbody tr th {\n",
       "        vertical-align: top;\n",
       "    }\n",
       "\n",
       "    .dataframe thead th {\n",
       "        text-align: right;\n",
       "    }\n",
       "</style>\n",
       "<table border=\"1\" class=\"dataframe\">\n",
       "  <thead>\n",
       "    <tr style=\"text-align: right;\">\n",
       "      <th></th>\n",
       "      <th>ID</th>\n",
       "      <th>name</th>\n",
       "      <th>class</th>\n",
       "      <th>score</th>\n",
       "    </tr>\n",
       "  </thead>\n",
       "  <tbody>\n",
       "    <tr>\n",
       "      <th>1</th>\n",
       "      <td>20190222</td>\n",
       "      <td>Lee</td>\n",
       "      <td>W</td>\n",
       "      <td>20</td>\n",
       "    </tr>\n",
       "  </tbody>\n",
       "</table>\n",
       "</div>"
      ],
      "text/plain": [
       "         ID name class  score\n",
       "1  20190222  Lee     W     20"
      ]
     },
     "execution_count": 106,
     "metadata": {},
     "output_type": "execute_result"
    }
   ],
   "source": [
    "## index Slice\n",
    "student_card[1:2]"
   ]
  },
  {
   "cell_type": "code",
   "execution_count": 113,
   "id": "9eac0b82",
   "metadata": {},
   "outputs": [
    {
     "data": {
      "text/plain": [
       "0    H\n",
       "1    W\n",
       "2    S\n",
       "Name: class, dtype: object"
      ]
     },
     "execution_count": 113,
     "metadata": {},
     "output_type": "execute_result"
    }
   ],
   "source": [
    "## 특정 열 선택\n",
    "student_card['class']"
   ]
  },
  {
   "cell_type": "code",
   "execution_count": 117,
   "id": "5154a13a",
   "metadata": {},
   "outputs": [
    {
     "data": {
      "text/html": [
       "<div>\n",
       "<style scoped>\n",
       "    .dataframe tbody tr th:only-of-type {\n",
       "        vertical-align: middle;\n",
       "    }\n",
       "\n",
       "    .dataframe tbody tr th {\n",
       "        vertical-align: top;\n",
       "    }\n",
       "\n",
       "    .dataframe thead th {\n",
       "        text-align: right;\n",
       "    }\n",
       "</style>\n",
       "<table border=\"1\" class=\"dataframe\">\n",
       "  <thead>\n",
       "    <tr style=\"text-align: right;\">\n",
       "      <th></th>\n",
       "      <th>class</th>\n",
       "      <th>name</th>\n",
       "    </tr>\n",
       "  </thead>\n",
       "  <tbody>\n",
       "    <tr>\n",
       "      <th>0</th>\n",
       "      <td>H</td>\n",
       "      <td>Kim</td>\n",
       "    </tr>\n",
       "    <tr>\n",
       "      <th>1</th>\n",
       "      <td>W</td>\n",
       "      <td>Lee</td>\n",
       "    </tr>\n",
       "    <tr>\n",
       "      <th>2</th>\n",
       "      <td>S</td>\n",
       "      <td>Jeong</td>\n",
       "    </tr>\n",
       "  </tbody>\n",
       "</table>\n",
       "</div>"
      ],
      "text/plain": [
       "  class   name\n",
       "0     H    Kim\n",
       "1     W    Lee\n",
       "2     S  Jeong"
      ]
     },
     "execution_count": 117,
     "metadata": {},
     "output_type": "execute_result"
    }
   ],
   "source": [
    "## 여러개 열 선택\n",
    "student_card[['class', 'name']]"
   ]
  },
  {
   "cell_type": "code",
   "execution_count": 118,
   "id": "cf944829",
   "metadata": {},
   "outputs": [
    {
     "data": {
      "text/plain": [
       "0     True\n",
       "1    False\n",
       "2     True\n",
       "Name: score, dtype: bool"
      ]
     },
     "execution_count": 118,
     "metadata": {},
     "output_type": "execute_result"
    }
   ],
   "source": [
    "## 조건으로 검색\n",
    "student_card['score'] >= 50"
   ]
  },
  {
   "cell_type": "code",
   "execution_count": 119,
   "id": "5dbadd7a",
   "metadata": {},
   "outputs": [
    {
     "data": {
      "text/html": [
       "<div>\n",
       "<style scoped>\n",
       "    .dataframe tbody tr th:only-of-type {\n",
       "        vertical-align: middle;\n",
       "    }\n",
       "\n",
       "    .dataframe tbody tr th {\n",
       "        vertical-align: top;\n",
       "    }\n",
       "\n",
       "    .dataframe thead th {\n",
       "        text-align: right;\n",
       "    }\n",
       "</style>\n",
       "<table border=\"1\" class=\"dataframe\">\n",
       "  <thead>\n",
       "    <tr style=\"text-align: right;\">\n",
       "      <th></th>\n",
       "      <th>ID</th>\n",
       "      <th>name</th>\n",
       "      <th>class</th>\n",
       "      <th>score</th>\n",
       "    </tr>\n",
       "  </thead>\n",
       "  <tbody>\n",
       "    <tr>\n",
       "      <th>0</th>\n",
       "      <td>20190103</td>\n",
       "      <td>Kim</td>\n",
       "      <td>H</td>\n",
       "      <td>50</td>\n",
       "    </tr>\n",
       "    <tr>\n",
       "      <th>2</th>\n",
       "      <td>20190531</td>\n",
       "      <td>Jeong</td>\n",
       "      <td>S</td>\n",
       "      <td>100</td>\n",
       "    </tr>\n",
       "  </tbody>\n",
       "</table>\n",
       "</div>"
      ],
      "text/plain": [
       "         ID   name class  score\n",
       "0  20190103    Kim     H     50\n",
       "2  20190531  Jeong     S    100"
      ]
     },
     "execution_count": 119,
     "metadata": {},
     "output_type": "execute_result"
    }
   ],
   "source": [
    "## 조건으로 검색 후 데이터 프레임 출력\n",
    "student_card[student_card['score'] >= 50]"
   ]
  },
  {
   "cell_type": "code",
   "execution_count": 120,
   "id": "a94bd888",
   "metadata": {},
   "outputs": [
    {
     "data": {
      "text/html": [
       "<div>\n",
       "<style scoped>\n",
       "    .dataframe tbody tr th:only-of-type {\n",
       "        vertical-align: middle;\n",
       "    }\n",
       "\n",
       "    .dataframe tbody tr th {\n",
       "        vertical-align: top;\n",
       "    }\n",
       "\n",
       "    .dataframe thead th {\n",
       "        text-align: right;\n",
       "    }\n",
       "</style>\n",
       "<table border=\"1\" class=\"dataframe\">\n",
       "  <thead>\n",
       "    <tr style=\"text-align: right;\">\n",
       "      <th></th>\n",
       "      <th>ID</th>\n",
       "      <th>name</th>\n",
       "      <th>class</th>\n",
       "      <th>score</th>\n",
       "    </tr>\n",
       "  </thead>\n",
       "  <tbody>\n",
       "    <tr>\n",
       "      <th>0</th>\n",
       "      <td>20190103</td>\n",
       "      <td>Kim</td>\n",
       "      <td>H</td>\n",
       "      <td>50</td>\n",
       "    </tr>\n",
       "  </tbody>\n",
       "</table>\n",
       "</div>"
      ],
      "text/plain": [
       "         ID name class  score\n",
       "0  20190103  Kim     H     50"
      ]
     },
     "execution_count": 120,
     "metadata": {},
     "output_type": "execute_result"
    }
   ],
   "source": [
    "student_card[(student_card['score'] >= 50) & (student_card['name']=='Kim')]"
   ]
  },
  {
   "cell_type": "code",
   "execution_count": 121,
   "id": "1b4c24ec",
   "metadata": {},
   "outputs": [
    {
     "data": {
      "text/html": [
       "<div>\n",
       "<style scoped>\n",
       "    .dataframe tbody tr th:only-of-type {\n",
       "        vertical-align: middle;\n",
       "    }\n",
       "\n",
       "    .dataframe tbody tr th {\n",
       "        vertical-align: top;\n",
       "    }\n",
       "\n",
       "    .dataframe thead th {\n",
       "        text-align: right;\n",
       "    }\n",
       "</style>\n",
       "<table border=\"1\" class=\"dataframe\">\n",
       "  <thead>\n",
       "    <tr style=\"text-align: right;\">\n",
       "      <th></th>\n",
       "      <th>ID</th>\n",
       "      <th>name</th>\n",
       "      <th>class</th>\n",
       "      <th>score</th>\n",
       "    </tr>\n",
       "  </thead>\n",
       "  <tbody>\n",
       "    <tr>\n",
       "      <th>1</th>\n",
       "      <td>20190222</td>\n",
       "      <td>Lee</td>\n",
       "      <td>W</td>\n",
       "      <td>20</td>\n",
       "    </tr>\n",
       "    <tr>\n",
       "      <th>0</th>\n",
       "      <td>20190103</td>\n",
       "      <td>Kim</td>\n",
       "      <td>H</td>\n",
       "      <td>50</td>\n",
       "    </tr>\n",
       "    <tr>\n",
       "      <th>2</th>\n",
       "      <td>20190531</td>\n",
       "      <td>Jeong</td>\n",
       "      <td>S</td>\n",
       "      <td>100</td>\n",
       "    </tr>\n",
       "  </tbody>\n",
       "</table>\n",
       "</div>"
      ],
      "text/plain": [
       "         ID   name class  score\n",
       "1  20190222    Lee     W     20\n",
       "0  20190103    Kim     H     50\n",
       "2  20190531  Jeong     S    100"
      ]
     },
     "execution_count": 121,
     "metadata": {},
     "output_type": "execute_result"
    }
   ],
   "source": [
    "## 정렬기능\n",
    "student_card.sort_values(by='score')"
   ]
  },
  {
   "cell_type": "code",
   "execution_count": 122,
   "id": "711f8972",
   "metadata": {},
   "outputs": [
    {
     "data": {
      "text/plain": [
       "50     1\n",
       "20     1\n",
       "100    1\n",
       "Name: score, dtype: int64"
      ]
     },
     "execution_count": 122,
     "metadata": {},
     "output_type": "execute_result"
    }
   ],
   "source": [
    "## 개수 count\n",
    "student_card['score'].value_counts()"
   ]
  },
  {
   "cell_type": "code",
   "execution_count": 124,
   "id": "643893a6",
   "metadata": {},
   "outputs": [
    {
     "data": {
      "text/html": [
       "<div>\n",
       "<style scoped>\n",
       "    .dataframe tbody tr th:only-of-type {\n",
       "        vertical-align: middle;\n",
       "    }\n",
       "\n",
       "    .dataframe tbody tr th {\n",
       "        vertical-align: top;\n",
       "    }\n",
       "\n",
       "    .dataframe thead th {\n",
       "        text-align: right;\n",
       "    }\n",
       "</style>\n",
       "<table border=\"1\" class=\"dataframe\">\n",
       "  <thead>\n",
       "    <tr style=\"text-align: right;\">\n",
       "      <th></th>\n",
       "      <th>ID</th>\n",
       "      <th>name</th>\n",
       "      <th>class</th>\n",
       "      <th>score</th>\n",
       "    </tr>\n",
       "  </thead>\n",
       "  <tbody>\n",
       "    <tr>\n",
       "      <th>0</th>\n",
       "      <td>20190103</td>\n",
       "      <td>Kim</td>\n",
       "      <td>H</td>\n",
       "      <td>90</td>\n",
       "    </tr>\n",
       "    <tr>\n",
       "      <th>1</th>\n",
       "      <td>20190222</td>\n",
       "      <td>Lee</td>\n",
       "      <td>W</td>\n",
       "      <td>20</td>\n",
       "    </tr>\n",
       "    <tr>\n",
       "      <th>2</th>\n",
       "      <td>20190531</td>\n",
       "      <td>Jeong</td>\n",
       "      <td>S</td>\n",
       "      <td>100</td>\n",
       "    </tr>\n",
       "  </tbody>\n",
       "</table>\n",
       "</div>"
      ],
      "text/plain": [
       "         ID   name class  score\n",
       "0  20190103    Kim     H     90\n",
       "1  20190222    Lee     W     20\n",
       "2  20190531  Jeong     S    100"
      ]
     },
     "execution_count": 124,
     "metadata": {},
     "output_type": "execute_result"
    }
   ],
   "source": [
    "## 데이터 변경\n",
    "student_card.loc[0, 'score'] = 90\n",
    "student_card"
   ]
  },
  {
   "cell_type": "code",
   "execution_count": 35,
   "id": "2967e3c4",
   "metadata": {},
   "outputs": [],
   "source": [
    "## https://laboputer.github.io/machine-learning/2020/04/07/pandas-10minutes/"
   ]
  },
  {
   "cell_type": "code",
   "execution_count": null,
   "id": "666044f6",
   "metadata": {},
   "outputs": [],
   "source": []
  }
 ],
 "metadata": {
  "kernelspec": {
   "display_name": "Python 3 (ipykernel)",
   "language": "python",
   "name": "python3"
  },
  "language_info": {
   "codemirror_mode": {
    "name": "ipython",
    "version": 3
   },
   "file_extension": ".py",
   "mimetype": "text/x-python",
   "name": "python",
   "nbconvert_exporter": "python",
   "pygments_lexer": "ipython3",
   "version": "3.8.10"
  }
 },
 "nbformat": 4,
 "nbformat_minor": 5
}
